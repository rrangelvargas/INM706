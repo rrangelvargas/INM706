{
 "cells": [
  {
   "cell_type": "code",
   "execution_count": 7,
   "metadata": {},
   "outputs": [],
   "source": [
    "import torch\n",
    "import librosa\n",
    "import numpy as np\n",
    "from src.model import HybridCNNGRUWithAttention  # Assuming model class is defined in model.py\n",
    "import os\n",
    "from skimage.transform import resize\n",
    "from src.dataset import normalize_peak"
   ]
  },
  {
   "cell_type": "code",
   "execution_count": 9,
   "metadata": {},
   "outputs": [],
   "source": [
    "def preprocess_audio_file(audio_path, resized_shape=(150, 150)):\n",
    "    spectrograms = []\n",
    "        \n",
    "    if audio_path.lower().endswith(('.wav', '.mp3')):\n",
    "        audio, rate = librosa.load(audio_path, sr=None)\n",
    "        audio = normalize_peak(audio)  # Apply peak normalization\n",
    "        \n",
    "        duration_of_chunk = 4  # seconds\n",
    "        overlap = 2  # seconds\n",
    "        samples_per_chunk = duration_of_chunk * rate\n",
    "        samples_overlap = overlap * rate\n",
    "        total_chunks = int(np.ceil((len(audio) - samples_per_chunk) / (samples_per_chunk - samples_overlap))) + 1\n",
    "        \n",
    "        for chunk_number in range(total_chunks):\n",
    "            start_sample = chunk_number * (samples_per_chunk - samples_overlap)\n",
    "            end_sample = start_sample + samples_per_chunk\n",
    "            audio_chunk = audio[start_sample:end_sample]\n",
    "            mel_spect = librosa.feature.melspectrogram(y=audio_chunk, sr=rate)\n",
    "            resized_mel_spect = resize(np.expand_dims(mel_spect, axis=-1), resized_shape)\n",
    "            spectrograms.append(resized_mel_spect)\n",
    "    \n",
    "    return np.array(spectrograms)"
   ]
  },
  {
   "cell_type": "code",
   "execution_count": 14,
   "metadata": {},
   "outputs": [
    {
     "name": "stdout",
     "output_type": "stream",
     "text": [
      "Blues: 0.0262\n",
      "Classical: 0.0124\n",
      "Country: 0.0384\n",
      "Disco: 0.0086\n",
      "Hip-hop: 0.9740\n",
      "Jazz: 0.0290\n",
      "Metal: 0.7356\n",
      "Pop: 0.9955\n",
      "Reggae: 0.0133\n",
      "Rock: 0.0233\n"
     ]
    }
   ],
   "source": [
    "# Define class names\n",
    "class_names = ['Blues', 'Classical', 'Country', 'Disco', 'Hip-hop', 'Jazz', 'Metal', 'Pop', 'Reggae', 'Rock']\n",
    "\n",
    "# Load and preprocess audio\n",
    "audio_path = 'data/test_files/pop4_billiejean.mp3'\n",
    "\n",
    "spectrograms = preprocess_audio_file(audio_path)\n",
    "\n",
    "# Convert to tensor and ensure correct dimensions\n",
    "X = torch.FloatTensor(spectrograms).permute(0, 3, 1, 2)\n",
    "\n",
    "# Load trained model\n",
    "model_path = 'output/saved_models/best_gru_with_attention_model_1.pth'\n",
    "model = HybridCNNGRUWithAttention()  # Initialize model with same architecture\n",
    "model.load_state_dict(torch.load(model_path))\n",
    "model.eval()\n",
    "\n",
    "# Make prediction\n",
    "with torch.no_grad():\n",
    "    output = model(X)\n",
    "    predictions = torch.sigmoid(output)\n",
    "    \n",
    "# Print prediction probabilities for each class\n",
    "for i, prob in enumerate(predictions[0]):\n",
    "    print(f\"{class_names[i]}: {prob.item():.4f}\")"
   ]
  }
 ],
 "metadata": {
  "kernelspec": {
   "display_name": ".venv",
   "language": "python",
   "name": "python3"
  },
  "language_info": {
   "codemirror_mode": {
    "name": "ipython",
    "version": 3
   },
   "file_extension": ".py",
   "mimetype": "text/x-python",
   "name": "python",
   "nbconvert_exporter": "python",
   "pygments_lexer": "ipython3",
   "version": "3.11.9"
  }
 },
 "nbformat": 4,
 "nbformat_minor": 2
}
